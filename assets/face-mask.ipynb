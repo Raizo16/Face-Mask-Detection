{
 "cells": [
  {
   "cell_type": "code",
   "execution_count": 1,
   "id": "07fbbb63",
   "metadata": {
    "_cell_guid": "b1076dfc-b9ad-4769-8c92-a6c4dae69d19",
    "_uuid": "8f2839f25d086af736a60e9eeb907d3b93b6e0e5",
    "execution": {
     "iopub.execute_input": "2022-11-18T09:33:46.050104Z",
     "iopub.status.busy": "2022-11-18T09:33:46.049503Z",
     "iopub.status.idle": "2022-11-18T09:33:53.724731Z",
     "shell.execute_reply": "2022-11-18T09:33:53.723470Z"
    },
    "papermill": {
     "duration": 7.689327,
     "end_time": "2022-11-18T09:33:53.727526",
     "exception": false,
     "start_time": "2022-11-18T09:33:46.038199",
     "status": "completed"
    },
    "tags": []
   },
   "outputs": [],
   "source": [
    "import numpy as np\n",
    "import pandas as pd\n",
    "import matplotlib.pyplot as plt\n",
    "import os\n",
    "import xml.etree.ElementTree as ET\n",
    "import glob\n",
    "from PIL import Image\n",
    "from sklearn.model_selection import train_test_split\n",
    "from keras.models import Sequential\n",
    "from keras.layers import Conv2D, MaxPooling2D, Flatten, Dense, Dropout\n",
    "from keras.preprocessing.image import ImageDataGenerator\n",
    "from tensorflow.keras.callbacks import EarlyStopping\n",
    "from tensorflow.keras.callbacks import ReduceLROnPlateau\n",
    "from sklearn.metrics import confusion_matrix, classification_report\n",
    "from sklearn.metrics import precision_score, recall_score, accuracy_score,f1_score, classification_report\n",
    "import cv2\n",
    "import seaborn as sns \n",
    "\n",
    "\n",
    "input_data_path = '/kaggle/input/face-mask-detection/images'\n",
    "annotations_path = \"/kaggle/input/face-mask-detection/annotations\"\n",
    "images = [*os.listdir(\"/kaggle/input/face-mask-detection/images\")]\n",
    "output_data_path =  '.'"
   ]
  },
  {
   "cell_type": "code",
   "execution_count": 2,
   "id": "a7d06ad5",
   "metadata": {
    "execution": {
     "iopub.execute_input": "2022-11-18T09:33:53.745967Z",
     "iopub.status.busy": "2022-11-18T09:33:53.745079Z",
     "iopub.status.idle": "2022-11-18T09:33:53.757749Z",
     "shell.execute_reply": "2022-11-18T09:33:53.756622Z"
    },
    "papermill": {
     "duration": 0.02427,
     "end_time": "2022-11-18T09:33:53.760195",
     "exception": false,
     "start_time": "2022-11-18T09:33:53.735925",
     "status": "completed"
    },
    "tags": []
   },
   "outputs": [],
   "source": [
    "def parse_annotation(path):\n",
    "    tree = ET.parse(path)\n",
    "    root = tree.getroot()\n",
    "    constants = {}\n",
    "    objects = [child for child in root if child.tag == 'object']\n",
    "    for element in tree.iter():\n",
    "        if element.tag == 'filename':\n",
    "            constants['file'] = element.text[0:-4]\n",
    "        if element.tag == 'size':\n",
    "            for dim in list(element):\n",
    "                if dim.tag == 'width':\n",
    "                    constants['width'] = int(dim.text)\n",
    "                if dim.tag == 'height':\n",
    "                    constants['height'] = int(dim.text)\n",
    "                if dim.tag == 'depth':\n",
    "                    constants['depth'] = int(dim.text)\n",
    "    object_params = [parse_annotation_object(obj) for obj in objects]\n",
    "    #print(constants)\n",
    "    full_result = [merge(constants,ob) for ob in object_params]\n",
    "    return full_result   \n",
    "\n",
    "\n",
    "def parse_annotation_object(annotation_object):\n",
    "    params = {}\n",
    "    for param in list(annotation_object):\n",
    "        if param.tag == 'name':\n",
    "            params['name'] = param.text\n",
    "        if param.tag == 'bndbox':\n",
    "            for coord in list(param):\n",
    "                if coord.tag == 'xmin':\n",
    "                    params['xmin'] = int(coord.text)              \n",
    "                if coord.tag == 'ymin':\n",
    "                    params['ymin'] = int(coord.text)\n",
    "                if coord.tag == 'xmax':\n",
    "                    params['xmax'] = int(coord.text)\n",
    "                if coord.tag == 'ymax':\n",
    "                    params['ymax'] = int(coord.text)\n",
    "            \n",
    "    return params       \n",
    " \n",
    "def merge(dict1, dict2):\n",
    "    res = {**dict1, **dict2}\n",
    "    return res"
   ]
  },
  {
   "cell_type": "code",
   "execution_count": 3,
   "id": "00d9c96f",
   "metadata": {
    "execution": {
     "iopub.execute_input": "2022-11-18T09:33:53.778410Z",
     "iopub.status.busy": "2022-11-18T09:33:53.777692Z",
     "iopub.status.idle": "2022-11-18T09:33:56.230021Z",
     "shell.execute_reply": "2022-11-18T09:33:56.228993Z"
    },
    "papermill": {
     "duration": 2.465132,
     "end_time": "2022-11-18T09:33:56.233322",
     "exception": false,
     "start_time": "2022-11-18T09:33:53.768190",
     "status": "completed"
    },
    "tags": []
   },
   "outputs": [
    {
     "data": {
      "text/plain": [
       "(4072, 9)"
      ]
     },
     "execution_count": 3,
     "metadata": {},
     "output_type": "execute_result"
    }
   ],
   "source": [
    "dataset = [parse_annotation(anno) for anno in glob.glob(annotations_path+\"/*.xml\") ]\n",
    "\n",
    "full_dataset = sum(dataset, [])\n",
    "\n",
    "df = pd.DataFrame(full_dataset)\n",
    "df.shape"
   ]
  },
  {
   "cell_type": "code",
   "execution_count": 4,
   "id": "9b7c8a76",
   "metadata": {
    "execution": {
     "iopub.execute_input": "2022-11-18T09:33:56.251176Z",
     "iopub.status.busy": "2022-11-18T09:33:56.250782Z",
     "iopub.status.idle": "2022-11-18T09:33:56.272200Z",
     "shell.execute_reply": "2022-11-18T09:33:56.270932Z"
    },
    "papermill": {
     "duration": 0.033311,
     "end_time": "2022-11-18T09:33:56.274736",
     "exception": false,
     "start_time": "2022-11-18T09:33:56.241425",
     "status": "completed"
    },
    "tags": []
   },
   "outputs": [
    {
     "data": {
      "text/html": [
       "<div>\n",
       "<style scoped>\n",
       "    .dataframe tbody tr th:only-of-type {\n",
       "        vertical-align: middle;\n",
       "    }\n",
       "\n",
       "    .dataframe tbody tr th {\n",
       "        vertical-align: top;\n",
       "    }\n",
       "\n",
       "    .dataframe thead th {\n",
       "        text-align: right;\n",
       "    }\n",
       "</style>\n",
       "<table border=\"1\" class=\"dataframe\">\n",
       "  <thead>\n",
       "    <tr style=\"text-align: right;\">\n",
       "      <th></th>\n",
       "      <th>file</th>\n",
       "      <th>width</th>\n",
       "      <th>height</th>\n",
       "      <th>depth</th>\n",
       "      <th>name</th>\n",
       "      <th>xmin</th>\n",
       "      <th>ymin</th>\n",
       "      <th>xmax</th>\n",
       "      <th>ymax</th>\n",
       "    </tr>\n",
       "  </thead>\n",
       "  <tbody>\n",
       "    <tr>\n",
       "      <th>0</th>\n",
       "      <td>maksssksksss737</td>\n",
       "      <td>400</td>\n",
       "      <td>226</td>\n",
       "      <td>3</td>\n",
       "      <td>with_mask</td>\n",
       "      <td>28</td>\n",
       "      <td>55</td>\n",
       "      <td>46</td>\n",
       "      <td>71</td>\n",
       "    </tr>\n",
       "    <tr>\n",
       "      <th>1</th>\n",
       "      <td>maksssksksss737</td>\n",
       "      <td>400</td>\n",
       "      <td>226</td>\n",
       "      <td>3</td>\n",
       "      <td>with_mask</td>\n",
       "      <td>98</td>\n",
       "      <td>62</td>\n",
       "      <td>111</td>\n",
       "      <td>78</td>\n",
       "    </tr>\n",
       "    <tr>\n",
       "      <th>2</th>\n",
       "      <td>maksssksksss737</td>\n",
       "      <td>400</td>\n",
       "      <td>226</td>\n",
       "      <td>3</td>\n",
       "      <td>mask_weared_incorrect</td>\n",
       "      <td>159</td>\n",
       "      <td>50</td>\n",
       "      <td>193</td>\n",
       "      <td>90</td>\n",
       "    </tr>\n",
       "    <tr>\n",
       "      <th>3</th>\n",
       "      <td>maksssksksss737</td>\n",
       "      <td>400</td>\n",
       "      <td>226</td>\n",
       "      <td>3</td>\n",
       "      <td>with_mask</td>\n",
       "      <td>293</td>\n",
       "      <td>59</td>\n",
       "      <td>313</td>\n",
       "      <td>80</td>\n",
       "    </tr>\n",
       "    <tr>\n",
       "      <th>4</th>\n",
       "      <td>maksssksksss737</td>\n",
       "      <td>400</td>\n",
       "      <td>226</td>\n",
       "      <td>3</td>\n",
       "      <td>with_mask</td>\n",
       "      <td>352</td>\n",
       "      <td>51</td>\n",
       "      <td>372</td>\n",
       "      <td>72</td>\n",
       "    </tr>\n",
       "  </tbody>\n",
       "</table>\n",
       "</div>"
      ],
      "text/plain": [
       "              file  width  height  depth                   name  xmin  ymin  \\\n",
       "0  maksssksksss737    400     226      3              with_mask    28    55   \n",
       "1  maksssksksss737    400     226      3              with_mask    98    62   \n",
       "2  maksssksksss737    400     226      3  mask_weared_incorrect   159    50   \n",
       "3  maksssksksss737    400     226      3              with_mask   293    59   \n",
       "4  maksssksksss737    400     226      3              with_mask   352    51   \n",
       "\n",
       "   xmax  ymax  \n",
       "0    46    71  \n",
       "1   111    78  \n",
       "2   193    90  \n",
       "3   313    80  \n",
       "4   372    72  "
      ]
     },
     "execution_count": 4,
     "metadata": {},
     "output_type": "execute_result"
    }
   ],
   "source": [
    "df.head()"
   ]
  },
  {
   "cell_type": "code",
   "execution_count": 5,
   "id": "61900ac8",
   "metadata": {
    "execution": {
     "iopub.execute_input": "2022-11-18T09:33:56.293518Z",
     "iopub.status.busy": "2022-11-18T09:33:56.293138Z",
     "iopub.status.idle": "2022-11-18T09:33:56.305994Z",
     "shell.execute_reply": "2022-11-18T09:33:56.305034Z"
    },
    "papermill": {
     "duration": 0.024901,
     "end_time": "2022-11-18T09:33:56.308252",
     "exception": false,
     "start_time": "2022-11-18T09:33:56.283351",
     "status": "completed"
    },
    "tags": []
   },
   "outputs": [],
   "source": [
    "final_test_image = 'maksssksksss0'\n",
    "df_final_test = df.loc[df[\"file\"] == final_test_image]\n",
    "images.remove(f'{final_test_image}.png')\n",
    "df = df.loc[df[\"file\"] != final_test_image]"
   ]
  },
  {
   "cell_type": "code",
   "execution_count": 6,
   "id": "a1b04dac",
   "metadata": {
    "execution": {
     "iopub.execute_input": "2022-11-18T09:33:56.328945Z",
     "iopub.status.busy": "2022-11-18T09:33:56.327756Z",
     "iopub.status.idle": "2022-11-18T09:33:56.342011Z",
     "shell.execute_reply": "2022-11-18T09:33:56.340779Z"
    },
    "papermill": {
     "duration": 0.026164,
     "end_time": "2022-11-18T09:33:56.344464",
     "exception": false,
     "start_time": "2022-11-18T09:33:56.318300",
     "status": "completed"
    },
    "tags": []
   },
   "outputs": [
    {
     "data": {
      "text/plain": [
       "with_mask                3231\n",
       "without_mask              715\n",
       "mask_weared_incorrect     123\n",
       "Name: name, dtype: int64"
      ]
     },
     "execution_count": 6,
     "metadata": {},
     "output_type": "execute_result"
    }
   ],
   "source": [
    "df[\"name\"].value_counts()"
   ]
  },
  {
   "cell_type": "code",
   "execution_count": 7,
   "id": "7a8b0458",
   "metadata": {
    "execution": {
     "iopub.execute_input": "2022-11-18T09:33:56.362801Z",
     "iopub.status.busy": "2022-11-18T09:33:56.362387Z",
     "iopub.status.idle": "2022-11-18T09:33:56.609127Z",
     "shell.execute_reply": "2022-11-18T09:33:56.608243Z"
    },
    "papermill": {
     "duration": 0.25831,
     "end_time": "2022-11-18T09:33:56.611203",
     "exception": false,
     "start_time": "2022-11-18T09:33:56.352893",
     "status": "completed"
    },
    "tags": []
   },
   "outputs": [
    {
     "data": {
      "text/plain": [
       "Text(0, 0.5, 'name')"
      ]
     },
     "execution_count": 7,
     "metadata": {},
     "output_type": "execute_result"
    },
    {
     "data": {
      "image/png": "[encoded data removed]",
      "text/plain": [
       "<Figure size 432x288 with 1 Axes>"
      ]
     },
     "metadata": {
      "needs_background": "light"
     },
     "output_type": "display_data"
    }
   ],
   "source": [
    "df[\"name\"].value_counts().plot(kind='barh')\n",
    "plt.xlabel('Count', fontsize = 10, fontweight = 'bold')\n",
    "plt.ylabel('name', fontsize = 10, fontweight = 'bold')"
   ]
  },
  {
   "cell_type": "code",
   "execution_count": 8,
   "id": "41615eb1",
   "metadata": {
    "execution": {
     "iopub.execute_input": "2022-11-18T09:33:56.630594Z",
     "iopub.status.busy": "2022-11-18T09:33:56.629640Z",
     "iopub.status.idle": "2022-11-18T09:33:56.637598Z",
     "shell.execute_reply": "2022-11-18T09:33:56.636496Z"
    },
    "papermill": {
     "duration": 0.020201,
     "end_time": "2022-11-18T09:33:56.640053",
     "exception": false,
     "start_time": "2022-11-18T09:33:56.619852",
     "status": "completed"
    },
    "tags": []
   },
   "outputs": [],
   "source": [
    "labels = df['name'].unique()\n",
    "directory = ['train', 'test', 'val']\n",
    "output_data_path =  '.'\n",
    "\n",
    "import os\n",
    "for label in labels:\n",
    "    for d in directory:\n",
    "        path = os.path.join(output_data_path, d, label)\n",
    "        if not os.path.exists(path):\n",
    "            os.makedirs(path)"
   ]
  },
  {
   "cell_type": "code",
   "execution_count": 9,
   "id": "977853ce",
   "metadata": {
    "execution": {
     "iopub.execute_input": "2022-11-18T09:33:56.660528Z",
     "iopub.status.busy": "2022-11-18T09:33:56.660134Z",
     "iopub.status.idle": "2022-11-18T09:33:56.666638Z",
     "shell.execute_reply": "2022-11-18T09:33:56.665434Z"
    },
    "papermill": {
     "duration": 0.019675,
     "end_time": "2022-11-18T09:33:56.668848",
     "exception": false,
     "start_time": "2022-11-18T09:33:56.649173",
     "status": "completed"
    },
    "tags": []
   },
   "outputs": [],
   "source": [
    "def crop_img(image_path, x_min, y_min, x_max, y_max):\n",
    "    x_shift = (x_max - x_min) * 0.1\n",
    "    y_shift = (y_max - y_min) * 0.1\n",
    "    img = Image.open(image_path)\n",
    "    cropped = img.crop((x_min - x_shift, y_min - y_shift, x_max + x_shift, y_max + y_shift))\n",
    "    return cropped"
   ]
  },
  {
   "cell_type": "code",
   "execution_count": 10,
   "id": "79ea7482",
   "metadata": {
    "execution": {
     "iopub.execute_input": "2022-11-18T09:33:56.687930Z",
     "iopub.status.busy": "2022-11-18T09:33:56.687549Z",
     "iopub.status.idle": "2022-11-18T09:33:56.695000Z",
     "shell.execute_reply": "2022-11-18T09:33:56.693866Z"
    },
    "papermill": {
     "duration": 0.01958,
     "end_time": "2022-11-18T09:33:56.697227",
     "exception": false,
     "start_time": "2022-11-18T09:33:56.677647",
     "status": "completed"
    },
    "tags": []
   },
   "outputs": [],
   "source": [
    "def extract_faces(image_name, image_info):\n",
    "    faces = []\n",
    "    df_one_img = image_info[image_info['file'] == image_name[:-4]][['xmin', 'ymin', 'xmax', 'ymax', 'name']]\n",
    "    for row_num in range(len(df_one_img)):\n",
    "        x_min, y_min, x_max, y_max, label = df_one_img.iloc[row_num] \n",
    "        image_path = os.path.join(input_data_path, image_name)\n",
    "        faces.append((crop_img(image_path, x_min, y_min, x_max, y_max), label,f'{image_name[:-4]}_{(x_min, y_min)}'))\n",
    "    return faces"
   ]
  },
  {
   "cell_type": "code",
   "execution_count": 11,
   "id": "7bd98ef7",
   "metadata": {
    "execution": {
     "iopub.execute_input": "2022-11-18T09:33:56.716203Z",
     "iopub.status.busy": "2022-11-18T09:33:56.715808Z",
     "iopub.status.idle": "2022-11-18T09:35:14.369250Z",
     "shell.execute_reply": "2022-11-18T09:35:14.368219Z"
    },
    "papermill": {
     "duration": 77.666135,
     "end_time": "2022-11-18T09:35:14.372092",
     "exception": false,
     "start_time": "2022-11-18T09:33:56.705957",
     "status": "completed"
    },
    "tags": []
   },
   "outputs": [],
   "source": [
    "cropped_faces = [extract_faces(img, df) for img in images]"
   ]
  },
  {
   "cell_type": "code",
   "execution_count": 12,
   "id": "4bacc88f",
   "metadata": {
    "execution": {
     "iopub.execute_input": "2022-11-18T09:35:14.391224Z",
     "iopub.status.busy": "2022-11-18T09:35:14.390845Z",
     "iopub.status.idle": "2022-11-18T09:35:14.407448Z",
     "shell.execute_reply": "2022-11-18T09:35:14.406623Z"
    },
    "papermill": {
     "duration": 0.028692,
     "end_time": "2022-11-18T09:35:14.409695",
     "exception": false,
     "start_time": "2022-11-18T09:35:14.381003",
     "status": "completed"
    },
    "tags": []
   },
   "outputs": [],
   "source": [
    "flat_cropped_faces = sum(cropped_faces, [])"
   ]
  },
  {
   "cell_type": "code",
   "execution_count": 13,
   "id": "0f7c919a",
   "metadata": {
    "execution": {
     "iopub.execute_input": "2022-11-18T09:35:14.429532Z",
     "iopub.status.busy": "2022-11-18T09:35:14.428597Z",
     "iopub.status.idle": "2022-11-18T09:35:14.438785Z",
     "shell.execute_reply": "2022-11-18T09:35:14.437802Z"
    },
    "papermill": {
     "duration": 0.022563,
     "end_time": "2022-11-18T09:35:14.441103",
     "exception": false,
     "start_time": "2022-11-18T09:35:14.418540",
     "status": "completed"
    },
    "tags": []
   },
   "outputs": [],
   "source": [
    "with_mask = [(img, image_name) for img, label,image_name in flat_cropped_faces if label == \"with_mask\"]\n",
    "mask_weared_incorrect = [(img, image_name) for img, label,image_name in flat_cropped_faces if label == \"mask_weared_incorrect\"]\n",
    "without_mask = [(img, image_name) for img, label,image_name in flat_cropped_faces if label == \"without_mask\"]"
   ]
  },
  {
   "cell_type": "code",
   "execution_count": 14,
   "id": "5cf7efa7",
   "metadata": {
    "execution": {
     "iopub.execute_input": "2022-11-18T09:35:14.460892Z",
     "iopub.status.busy": "2022-11-18T09:35:14.460222Z",
     "iopub.status.idle": "2022-11-18T09:35:14.466498Z",
     "shell.execute_reply": "2022-11-18T09:35:14.465448Z"
    },
    "papermill": {
     "duration": 0.020709,
     "end_time": "2022-11-18T09:35:14.470763",
     "exception": false,
     "start_time": "2022-11-18T09:35:14.450054",
     "status": "completed"
    },
    "tags": []
   },
   "outputs": [
    {
     "name": "stdout",
     "output_type": "stream",
     "text": [
      "3231\n",
      "715\n",
      "123\n",
      "4069\n"
     ]
    }
   ],
   "source": [
    "print(len(with_mask))\n",
    "print(len(without_mask))\n",
    "print(len(mask_weared_incorrect))\n",
    "print(len(with_mask) + len(without_mask) + len(mask_weared_incorrect))"
   ]
  },
  {
   "cell_type": "code",
   "execution_count": 15,
   "id": "8018be12",
   "metadata": {
    "execution": {
     "iopub.execute_input": "2022-11-18T09:35:14.492129Z",
     "iopub.status.busy": "2022-11-18T09:35:14.491725Z",
     "iopub.status.idle": "2022-11-18T09:35:14.503783Z",
     "shell.execute_reply": "2022-11-18T09:35:14.502518Z"
    },
    "papermill": {
     "duration": 0.025301,
     "end_time": "2022-11-18T09:35:14.506538",
     "exception": false,
     "start_time": "2022-11-18T09:35:14.481237",
     "status": "completed"
    },
    "tags": []
   },
   "outputs": [],
   "source": [
    "train_with_mask, test_with_mask = train_test_split(with_mask, test_size=0.20, random_state=42)\n",
    "test_with_mask, val_with_mask = train_test_split(test_with_mask, test_size=0.7, random_state=42)\n",
    "\n",
    "train_mask_weared_incorrect, test_mask_weared_incorrect = train_test_split(mask_weared_incorrect, test_size=0.20, random_state=42)\n",
    "test_mask_weared_incorrect, val_mask_weared_incorrect = train_test_split(test_mask_weared_incorrect, test_size=0.7, random_state=42)\n",
    "\n",
    "train_without_mask, test_without_mask = train_test_split(without_mask, test_size=0.20, random_state=42)\n",
    "test_without_mask, val_without_mask = train_test_split(test_without_mask, test_size=0.7, random_state=42)"
   ]
  },
  {
   "cell_type": "code",
   "execution_count": 16,
   "id": "fd77f74a",
   "metadata": {
    "execution": {
     "iopub.execute_input": "2022-11-18T09:35:14.526476Z",
     "iopub.status.busy": "2022-11-18T09:35:14.526094Z",
     "iopub.status.idle": "2022-11-18T09:35:14.531212Z",
     "shell.execute_reply": "2022-11-18T09:35:14.530127Z"
    },
    "papermill": {
     "duration": 0.018151,
     "end_time": "2022-11-18T09:35:14.533722",
     "exception": false,
     "start_time": "2022-11-18T09:35:14.515571",
     "status": "completed"
    },
    "tags": []
   },
   "outputs": [],
   "source": [
    "def save_image(image, image_name, output_data_path,  dataset_type, label):\n",
    "    output_path = os.path.join(output_data_path, dataset_type, label ,f'{image_name}.png')\n",
    "    image.save(output_path)  "
   ]
  },
  {
   "cell_type": "code",
   "execution_count": 17,
   "id": "32401431",
   "metadata": {
    "execution": {
     "iopub.execute_input": "2022-11-18T09:35:14.553295Z",
     "iopub.status.busy": "2022-11-18T09:35:14.552596Z",
     "iopub.status.idle": "2022-11-18T09:35:22.589213Z",
     "shell.execute_reply": "2022-11-18T09:35:22.588123Z"
    },
    "papermill": {
     "duration": 8.04939,
     "end_time": "2022-11-18T09:35:22.591869",
     "exception": false,
     "start_time": "2022-11-18T09:35:14.542479",
     "status": "completed"
    },
    "tags": []
   },
   "outputs": [],
   "source": [
    "for image, image_name in train_with_mask:\n",
    "    save_image(image, image_name, output_data_path, 'train', 'with_mask')\n",
    "\n",
    "for image, image_name in train_mask_weared_incorrect:\n",
    "    save_image(image, image_name, output_data_path, 'train', 'mask_weared_incorrect')\n",
    "\n",
    "for image, image_name in train_without_mask:\n",
    "    save_image(image, image_name, output_data_path, 'train', 'without_mask')\n",
    "\n",
    "for image, image_name in test_with_mask:\n",
    "    save_image(image, image_name, output_data_path, 'test', 'with_mask')\n",
    "\n",
    "for image, image_name in test_mask_weared_incorrect:\n",
    "    save_image(image, image_name, output_data_path, 'test', 'mask_weared_incorrect')\n",
    "\n",
    "for image, image_name in test_without_mask:\n",
    "    save_image(image, image_name, output_data_path, 'test', 'without_mask')\n",
    "        \n",
    "for image, image_name in val_with_mask:\n",
    "    save_image(image, image_name, output_data_path, 'val', 'with_mask')\n",
    "\n",
    "for image, image_name in val_without_mask:\n",
    "    save_image(image, image_name, output_data_path, 'val', 'without_mask')\n",
    "\n",
    "for image, image_name in val_mask_weared_incorrect:\n",
    "    save_image(image, image_name, output_data_path, 'val', 'mask_weared_incorrect')"
   ]
  },
  {
   "cell_type": "code",
   "execution_count": 18,
   "id": "52b17489",
   "metadata": {
    "execution": {
     "iopub.execute_input": "2022-11-18T09:35:22.611748Z",
     "iopub.status.busy": "2022-11-18T09:35:22.611353Z",
     "iopub.status.idle": "2022-11-18T09:35:22.795656Z",
     "shell.execute_reply": "2022-11-18T09:35:22.794474Z"
    },
    "papermill": {
     "duration": 0.198597,
     "end_time": "2022-11-18T09:35:22.799397",
     "exception": false,
     "start_time": "2022-11-18T09:35:22.600800",
     "status": "completed"
    },
    "tags": []
   },
   "outputs": [
    {
     "name": "stdout",
     "output_type": "stream",
     "text": [
      "Model: \"sequential\"\n",
      "_________________________________________________________________\n",
      "Layer (type)                 Output Shape              Param #   \n",
      "=================================================================\n",
      "conv2d (Conv2D)              (None, 35, 35, 16)        448       \n",
      "_________________________________________________________________\n",
      "max_pooling2d (MaxPooling2D) (None, 17, 17, 16)        0         \n",
      "_________________________________________________________________\n",
      "conv2d_1 (Conv2D)            (None, 17, 17, 32)        4640      \n",
      "_________________________________________________________________\n",
      "max_pooling2d_1 (MaxPooling2 (None, 8, 8, 32)          0         \n",
      "_________________________________________________________________\n",
      "conv2d_2 (Conv2D)            (None, 8, 8, 64)          18496     \n",
      "_________________________________________________________________\n",
      "max_pooling2d_2 (MaxPooling2 (None, 4, 4, 64)          0         \n",
      "_________________________________________________________________\n",
      "dropout (Dropout)            (None, 4, 4, 64)          0         \n",
      "_________________________________________________________________\n",
      "flatten (Flatten)            (None, 1024)              0         \n",
      "_________________________________________________________________\n",
      "dense (Dense)                (None, 500)               512500    \n",
      "_________________________________________________________________\n",
      "dropout_1 (Dropout)          (None, 500)               0         \n",
      "_________________________________________________________________\n",
      "dense_1 (Dense)              (None, 3)                 1503      \n",
      "=================================================================\n",
      "Total params: 537,587\n",
      "Trainable params: 537,587\n",
      "Non-trainable params: 0\n",
      "_________________________________________________________________\n"
     ]
    },
    {
     "name": "stderr",
     "output_type": "stream",
     "text": [
      "2022-11-18 09:35:22.655286: I tensorflow/core/common_runtime/process_util.cc:146] Creating new thread pool with default inter op setting: 2. Tune using inter_op_parallelism_threads for best performance.\n"
     ]
    }
   ],
   "source": [
    "model = Sequential()\n",
    "model.add(Conv2D(filters = 16, kernel_size = 3,  padding='same', activation = 'relu', input_shape = (35,35,3)))\n",
    "model.add(MaxPooling2D(pool_size = 2))\n",
    "model.add(Conv2D(filters = 32, kernel_size = 3,  padding='same', activation = 'relu'))\n",
    "model.add(MaxPooling2D(pool_size = 2))\n",
    "model.add(Conv2D(filters = 64, kernel_size = 3,  padding='same', activation = 'relu'))\n",
    "model.add(MaxPooling2D(pool_size = 2))\n",
    "model.add(Dropout(0.3))\n",
    "model.add(Flatten())\n",
    "model.add(Dense(units = 500, activation = 'relu'))\n",
    "model.add(Dropout(0.3))\n",
    "model.add(Dense(units = 3, activation = 'softmax'))\n",
    "\n",
    "model.summary()"
   ]
  },
  {
   "cell_type": "code",
   "execution_count": 19,
   "id": "903d089c",
   "metadata": {
    "execution": {
     "iopub.execute_input": "2022-11-18T09:35:22.818971Z",
     "iopub.status.busy": "2022-11-18T09:35:22.818563Z",
     "iopub.status.idle": "2022-11-18T09:35:23.142322Z",
     "shell.execute_reply": "2022-11-18T09:35:23.141114Z"
    },
    "papermill": {
     "duration": 0.337088,
     "end_time": "2022-11-18T09:35:23.145313",
     "exception": false,
     "start_time": "2022-11-18T09:35:22.808225",
     "status": "completed"
    },
    "tags": []
   },
   "outputs": [
    {
     "name": "stdout",
     "output_type": "stream",
     "text": [
      "Found 3254 images belonging to 3 classes.\n",
      "Found 572 images belonging to 3 classes.\n",
      "Found 243 images belonging to 3 classes.\n"
     ]
    }
   ],
   "source": [
    "batch_size = 8\n",
    "epochs = 50\n",
    "\n",
    "datagen = ImageDataGenerator(\n",
    "    rescale=1.0 / 255, horizontal_flip=True, zoom_range=0.1, shear_range=0.2, width_shift_range=0.1,\n",
    "    height_shift_range=0.1, rotation_range=4, vertical_flip=False\n",
    "\n",
    ")\n",
    "\n",
    "val_datagen = ImageDataGenerator(\n",
    "    rescale=1.0 / 255\n",
    ")\n",
    " \n",
    "\n",
    "train_generator = datagen.flow_from_directory(\n",
    "    directory='/kaggle/working/train', \n",
    "    target_size = (35,35),\n",
    "    class_mode=\"categorical\", batch_size=batch_size, shuffle=True\n",
    "\n",
    ")\n",
    "\n",
    "# Validation data\n",
    "val_generator = val_datagen.flow_from_directory(\n",
    "    directory='/kaggle/working/val', \n",
    "    target_size = (35,35),\n",
    "    class_mode=\"categorical\", batch_size=batch_size, shuffle=True\n",
    ")\n",
    "\n",
    "# Test data\n",
    "test_generator = val_datagen.flow_from_directory(\n",
    "    directory='/kaggle/working/test', \n",
    "    target_size = (35,35),\n",
    "    class_mode=\"categorical\", batch_size=batch_size, shuffle=False\n",
    ")"
   ]
  },
  {
   "cell_type": "code",
   "execution_count": 20,
   "id": "efbb4fb7",
   "metadata": {
    "execution": {
     "iopub.execute_input": "2022-11-18T09:35:23.165853Z",
     "iopub.status.busy": "2022-11-18T09:35:23.164935Z",
     "iopub.status.idle": "2022-11-18T09:35:23.171559Z",
     "shell.execute_reply": "2022-11-18T09:35:23.170435Z"
    },
    "papermill": {
     "duration": 0.020306,
     "end_time": "2022-11-18T09:35:23.174767",
     "exception": false,
     "start_time": "2022-11-18T09:35:23.154461",
     "status": "completed"
    },
    "tags": []
   },
   "outputs": [
    {
     "name": "stdout",
     "output_type": "stream",
     "text": [
      "steps_per_epoch: 50\n",
      "val_steps: 9\n"
     ]
    }
   ],
   "source": [
    "data_size = len(train_generator)\n",
    "\n",
    "steps_per_epoch = int(data_size / batch_size)\n",
    "print(f\"steps_per_epoch: {steps_per_epoch}\")\n",
    "\n",
    "val_steps = int(len(val_generator) // batch_size)\n",
    "print(f\"val_steps: {val_steps}\")"
   ]
  },
  {
   "cell_type": "code",
   "execution_count": 21,
   "id": "97c2d4d6",
   "metadata": {
    "execution": {
     "iopub.execute_input": "2022-11-18T09:35:23.196827Z",
     "iopub.status.busy": "2022-11-18T09:35:23.195956Z",
     "iopub.status.idle": "2022-11-18T09:35:23.209796Z",
     "shell.execute_reply": "2022-11-18T09:35:23.208661Z"
    },
    "papermill": {
     "duration": 0.027385,
     "end_time": "2022-11-18T09:35:23.212473",
     "exception": false,
     "start_time": "2022-11-18T09:35:23.185088",
     "status": "completed"
    },
    "tags": []
   },
   "outputs": [],
   "source": [
    "model.compile(\n",
    "    optimizer=\"adam\",\n",
    "    loss=\"categorical_crossentropy\",\n",
    "    metrics=['accuracy', 'Recall', 'Precision', 'AUC']\n",
    ")"
   ]
  },
  {
   "cell_type": "code",
   "execution_count": 22,
   "id": "0b4ee076",
   "metadata": {
    "execution": {
     "iopub.execute_input": "2022-11-18T09:35:23.232770Z",
     "iopub.status.busy": "2022-11-18T09:35:23.232106Z",
     "iopub.status.idle": "2022-11-18T09:35:23.237170Z",
     "shell.execute_reply": "2022-11-18T09:35:23.236369Z"
    },
    "papermill": {
     "duration": 0.017878,
     "end_time": "2022-11-18T09:35:23.239281",
     "exception": false,
     "start_time": "2022-11-18T09:35:23.221403",
     "status": "completed"
    },
    "tags": []
   },
   "outputs": [],
   "source": [
    "early_stopping = EarlyStopping(monitor='val_loss', patience=8, restore_best_weights=True)"
   ]
  },
  {
   "cell_type": "code",
   "execution_count": 23,
   "id": "23850d35",
   "metadata": {
    "execution": {
     "iopub.execute_input": "2022-11-18T09:35:23.259475Z",
     "iopub.status.busy": "2022-11-18T09:35:23.258734Z",
     "iopub.status.idle": "2022-11-18T09:35:23.263925Z",
     "shell.execute_reply": "2022-11-18T09:35:23.263134Z"
    },
    "papermill": {
     "duration": 0.01767,
     "end_time": "2022-11-18T09:35:23.265965",
     "exception": false,
     "start_time": "2022-11-18T09:35:23.248295",
     "status": "completed"
    },
    "tags": []
   },
   "outputs": [],
   "source": [
    "lrr = ReduceLROnPlateau(monitor='val_loss',patience=8,verbose=1,factor=0.5, min_lr=0.00001)"
   ]
  },
  {
   "cell_type": "code",
   "execution_count": 24,
   "id": "bf8fd23a",
   "metadata": {
    "execution": {
     "iopub.execute_input": "2022-11-18T09:35:23.286011Z",
     "iopub.status.busy": "2022-11-18T09:35:23.285329Z",
     "iopub.status.idle": "2022-11-18T09:35:54.265179Z",
     "shell.execute_reply": "2022-11-18T09:35:54.263663Z"
    },
    "papermill": {
     "duration": 30.992362,
     "end_time": "2022-11-18T09:35:54.267315",
     "exception": false,
     "start_time": "2022-11-18T09:35:23.274953",
     "status": "completed"
    },
    "tags": []
   },
   "outputs": [
    {
     "name": "stderr",
     "output_type": "stream",
     "text": [
      "/opt/conda/lib/python3.7/site-packages/keras/engine/training.py:1972: UserWarning: `Model.fit_generator` is deprecated and will be removed in a future version. Please use `Model.fit`, which supports generators.\n",
      "  warnings.warn('`Model.fit_generator` is deprecated and '\n",
      "2022-11-18 09:35:23.402913: I tensorflow/compiler/mlir/mlir_graph_optimization_pass.cc:185] None of the MLIR Optimization Passes are enabled (registered 2)\n"
     ]
    },
    {
     "name": "stdout",
     "output_type": "stream",
     "text": [
      "Epoch 1/50\n",
      "50/50 [==============================] - 3s 32ms/step - loss: 0.6274 - accuracy: 0.7975 - recall: 0.7800 - precision: 0.8021 - auc: 0.8986 - val_loss: 0.4898 - val_accuracy: 0.8333 - val_recall: 0.8194 - val_precision: 0.8310 - val_auc: 0.9414\n",
      "Epoch 2/50\n",
      "50/50 [==============================] - 1s 20ms/step - loss: 0.4958 - accuracy: 0.8025 - recall: 0.7900 - precision: 0.8187 - auc: 0.9360 - val_loss: 0.3193 - val_accuracy: 0.9444 - val_recall: 0.9028 - val_precision: 0.9848 - val_auc: 0.9960\n",
      "Epoch 3/50\n",
      "50/50 [==============================] - 1s 20ms/step - loss: 0.3383 - accuracy: 0.9000 - recall: 0.8900 - precision: 0.9199 - auc: 0.9687 - val_loss: 0.4026 - val_accuracy: 0.8750 - val_recall: 0.8750 - val_precision: 0.8750 - val_auc: 0.9584\n",
      "Epoch 4/50\n",
      "50/50 [==============================] - 1s 21ms/step - loss: 0.2921 - accuracy: 0.9175 - recall: 0.9075 - precision: 0.9260 - auc: 0.9730 - val_loss: 0.2317 - val_accuracy: 0.9306 - val_recall: 0.9306 - val_precision: 0.9306 - val_auc: 0.9853\n",
      "Epoch 5/50\n",
      "50/50 [==============================] - 1s 19ms/step - loss: 0.2294 - accuracy: 0.9275 - recall: 0.9275 - precision: 0.9298 - auc: 0.9846 - val_loss: 0.2226 - val_accuracy: 0.9444 - val_recall: 0.9167 - val_precision: 0.9429 - val_auc: 0.9855\n",
      "Epoch 6/50\n",
      "50/50 [==============================] - 1s 20ms/step - loss: 0.3378 - accuracy: 0.8750 - recall: 0.8625 - precision: 0.8846 - auc: 0.9685 - val_loss: 0.3170 - val_accuracy: 0.8611 - val_recall: 0.8472 - val_precision: 0.9104 - val_auc: 0.9765\n",
      "Epoch 7/50\n",
      "50/50 [==============================] - 1s 19ms/step - loss: 0.3449 - accuracy: 0.8869 - recall: 0.8719 - precision: 0.9036 - auc: 0.9666 - val_loss: 0.3862 - val_accuracy: 0.8472 - val_recall: 0.8333 - val_precision: 0.8451 - val_auc: 0.9633\n",
      "Epoch 8/50\n",
      "50/50 [==============================] - 1s 21ms/step - loss: 0.3289 - accuracy: 0.9025 - recall: 0.8950 - precision: 0.9086 - auc: 0.9691 - val_loss: 0.2926 - val_accuracy: 0.9167 - val_recall: 0.9028 - val_precision: 0.9155 - val_auc: 0.9762\n",
      "Epoch 9/50\n",
      "50/50 [==============================] - 1s 20ms/step - loss: 0.2847 - accuracy: 0.9050 - recall: 0.8975 - precision: 0.9089 - auc: 0.9786 - val_loss: 0.2011 - val_accuracy: 0.9306 - val_recall: 0.9306 - val_precision: 0.9306 - val_auc: 0.9920\n",
      "Epoch 10/50\n",
      "50/50 [==============================] - 1s 21ms/step - loss: 0.2874 - accuracy: 0.9175 - recall: 0.8900 - precision: 0.9247 - auc: 0.9757 - val_loss: 0.1792 - val_accuracy: 0.9583 - val_recall: 0.9306 - val_precision: 0.9571 - val_auc: 0.9909\n",
      "Epoch 11/50\n",
      "50/50 [==============================] - 1s 28ms/step - loss: 0.2274 - accuracy: 0.9400 - recall: 0.9350 - precision: 0.9492 - auc: 0.9822 - val_loss: 0.2692 - val_accuracy: 0.9167 - val_recall: 0.9167 - val_precision: 0.9296 - val_auc: 0.9753\n",
      "Epoch 12/50\n",
      "50/50 [==============================] - 1s 20ms/step - loss: 0.2565 - accuracy: 0.9175 - recall: 0.9075 - precision: 0.9167 - auc: 0.9823 - val_loss: 0.2901 - val_accuracy: 0.8750 - val_recall: 0.8750 - val_precision: 0.8873 - val_auc: 0.9717\n",
      "Epoch 13/50\n",
      "50/50 [==============================] - 1s 20ms/step - loss: 0.1963 - accuracy: 0.9375 - recall: 0.9325 - precision: 0.9491 - auc: 0.9886 - val_loss: 0.1786 - val_accuracy: 0.9583 - val_recall: 0.9444 - val_precision: 0.9714 - val_auc: 0.9976\n",
      "Epoch 14/50\n",
      "50/50 [==============================] - 1s 19ms/step - loss: 0.1984 - accuracy: 0.9450 - recall: 0.9400 - precision: 0.9495 - auc: 0.9885 - val_loss: 0.4284 - val_accuracy: 0.8889 - val_recall: 0.8750 - val_precision: 0.8873 - val_auc: 0.9629\n",
      "Epoch 15/50\n",
      "50/50 [==============================] - 1s 18ms/step - loss: 0.2498 - accuracy: 0.9275 - recall: 0.9250 - precision: 0.9343 - auc: 0.9816 - val_loss: 0.2562 - val_accuracy: 0.9167 - val_recall: 0.9167 - val_precision: 0.9429 - val_auc: 0.9818\n",
      "Epoch 16/50\n",
      "50/50 [==============================] - 1s 19ms/step - loss: 0.2146 - accuracy: 0.9322 - recall: 0.9322 - precision: 0.9464 - auc: 0.9851 - val_loss: 0.0645 - val_accuracy: 0.9722 - val_recall: 0.9722 - val_precision: 0.9859 - val_auc: 0.9989\n",
      "Epoch 17/50\n",
      "50/50 [==============================] - 1s 18ms/step - loss: 0.2514 - accuracy: 0.9275 - recall: 0.9250 - precision: 0.9320 - auc: 0.9796 - val_loss: 0.1768 - val_accuracy: 0.9583 - val_recall: 0.9583 - val_precision: 0.9583 - val_auc: 0.9917\n",
      "Epoch 18/50\n",
      "50/50 [==============================] - 1s 19ms/step - loss: 0.2416 - accuracy: 0.9350 - recall: 0.9250 - precision: 0.9367 - auc: 0.9801 - val_loss: 0.2534 - val_accuracy: 0.9028 - val_recall: 0.8750 - val_precision: 0.9130 - val_auc: 0.9827\n",
      "Epoch 19/50\n",
      "50/50 [==============================] - 1s 19ms/step - loss: 0.1752 - accuracy: 0.9548 - recall: 0.9472 - precision: 0.9569 - auc: 0.9885 - val_loss: 0.2384 - val_accuracy: 0.8889 - val_recall: 0.8889 - val_precision: 0.9014 - val_auc: 0.9854\n",
      "Epoch 20/50\n",
      "50/50 [==============================] - 1s 19ms/step - loss: 0.2351 - accuracy: 0.9300 - recall: 0.9300 - precision: 0.9347 - auc: 0.9804 - val_loss: 0.1718 - val_accuracy: 0.9583 - val_recall: 0.9583 - val_precision: 0.9583 - val_auc: 0.9909\n",
      "Epoch 21/50\n",
      "50/50 [==============================] - 1s 21ms/step - loss: 0.2054 - accuracy: 0.9322 - recall: 0.9271 - precision: 0.9389 - auc: 0.9868 - val_loss: 0.1109 - val_accuracy: 0.9861 - val_recall: 0.9583 - val_precision: 0.9857 - val_auc: 0.9970\n",
      "Epoch 22/50\n",
      "50/50 [==============================] - 1s 18ms/step - loss: 0.1629 - accuracy: 0.9550 - recall: 0.9425 - precision: 0.9617 - auc: 0.9923 - val_loss: 0.1838 - val_accuracy: 0.9444 - val_recall: 0.9444 - val_precision: 0.9444 - val_auc: 0.9923\n",
      "Epoch 23/50\n",
      "50/50 [==============================] - 1s 18ms/step - loss: 0.2278 - accuracy: 0.9425 - recall: 0.9400 - precision: 0.9447 - auc: 0.9802 - val_loss: 0.1980 - val_accuracy: 0.9167 - val_recall: 0.9167 - val_precision: 0.9167 - val_auc: 0.9908\n",
      "Epoch 24/50\n",
      "50/50 [==============================] - 1s 19ms/step - loss: 0.2504 - accuracy: 0.9275 - recall: 0.9125 - precision: 0.9311 - auc: 0.9797 - val_loss: 0.1366 - val_accuracy: 0.9583 - val_recall: 0.9583 - val_precision: 0.9583 - val_auc: 0.9960\n",
      "\n",
      "Epoch 00024: ReduceLROnPlateau reducing learning rate to 0.0005000000237487257.\n"
     ]
    }
   ],
   "source": [
    "model_history = model.fit_generator(\n",
    "    generator=train_generator,\n",
    "    steps_per_epoch=steps_per_epoch,\n",
    "    epochs=epochs,\n",
    "    shuffle=True,\n",
    "    validation_data=val_generator,\n",
    "    validation_steps=val_steps,\n",
    "    callbacks=[early_stopping, lrr]\n",
    ")"
   ]
  },
  {
   "cell_type": "code",
   "execution_count": 25,
   "id": "4d222c4f",
   "metadata": {
    "execution": {
     "iopub.execute_input": "2022-11-18T09:35:54.333734Z",
     "iopub.status.busy": "2022-11-18T09:35:54.333130Z",
     "iopub.status.idle": "2022-11-18T09:35:54.656741Z",
     "shell.execute_reply": "2022-11-18T09:35:54.654960Z"
    },
    "papermill": {
     "duration": 0.360153,
     "end_time": "2022-11-18T09:35:54.659255",
     "exception": false,
     "start_time": "2022-11-18T09:35:54.299102",
     "status": "completed"
    },
    "tags": []
   },
   "outputs": [
    {
     "name": "stdout",
     "output_type": "stream",
     "text": [
      "31/31 [==============================] - 0s 8ms/step - loss: 0.2320 - accuracy: 0.9383 - recall: 0.9383 - precision: 0.9421 - auc: 0.9851\n",
      "0.2319938689470291 || 93.82715821266174 || 93.82715821266174 || 94.2148745059967 || 98.50590825080872\n"
     ]
    }
   ],
   "source": [
    "model_loss, model_acc, recall, precision, auc = model.evaluate(test_generator)\n",
    "print(f'{model_loss} || {model_acc*100} || {recall*100} || {precision*100} || {auc*100}')"
   ]
  },
  {
   "cell_type": "code",
   "execution_count": 26,
   "id": "ee3f28aa",
   "metadata": {
    "execution": {
     "iopub.execute_input": "2022-11-18T09:35:54.726837Z",
     "iopub.status.busy": "2022-11-18T09:35:54.725634Z",
     "iopub.status.idle": "2022-11-18T09:35:55.124402Z",
     "shell.execute_reply": "2022-11-18T09:35:55.123286Z"
    },
    "papermill": {
     "duration": 0.435113,
     "end_time": "2022-11-18T09:35:55.126881",
     "exception": false,
     "start_time": "2022-11-18T09:35:54.691768",
     "status": "completed"
    },
    "tags": []
   },
   "outputs": [
    {
     "data": {
      "text/plain": [
       "array([[2.32341871e-01, 3.28542501e-01, 4.39115703e-01],\n",
       "       [7.83189293e-03, 9.92152274e-01, 1.58764014e-05],\n",
       "       [3.57191116e-02, 9.62862909e-01, 1.41798286e-03],\n",
       "       [2.55428813e-02, 9.71925557e-01, 2.53153895e-03],\n",
       "       [2.56402045e-02, 9.74150300e-01, 2.09537553e-04],\n",
       "       [1.24730775e-02, 9.83227134e-01, 4.29972494e-03],\n",
       "       [2.54702196e-03, 9.97446775e-01, 6.17831165e-06],\n",
       "       [1.40709756e-03, 9.98507440e-01, 8.54859027e-05],\n",
       "       [6.07670343e-04, 9.98871505e-01, 5.20794070e-04],\n",
       "       [3.14129051e-03, 9.96259093e-01, 5.99674997e-04],\n",
       "       [1.56376651e-03, 9.98378277e-01, 5.80055821e-05],\n",
       "       [3.66405025e-03, 9.94819820e-01, 1.51623413e-03],\n",
       "       [1.12762069e-03, 9.98828948e-01, 4.34227659e-05],\n",
       "       [4.22179903e-04, 9.99559104e-01, 1.87636833e-05],\n",
       "       [1.68975850e-03, 9.96923864e-01, 1.38643128e-03],\n",
       "       [5.05961804e-03, 9.91007864e-01, 3.93258082e-03],\n",
       "       [5.90008509e-04, 9.99329448e-01, 8.05228265e-05],\n",
       "       [4.81965020e-04, 9.99511361e-01, 6.70368172e-06],\n",
       "       [1.82137091e-03, 9.98118043e-01, 6.05628775e-05],\n",
       "       [1.60249459e-04, 9.99838114e-01, 1.70136070e-06],\n",
       "       [1.29728054e-03, 9.98697340e-01, 5.31066871e-06],\n",
       "       [2.46459036e-03, 9.97482121e-01, 5.32300473e-05],\n",
       "       [1.20942153e-04, 9.99877572e-01, 1.40459201e-06],\n",
       "       [5.70287928e-03, 9.93998170e-01, 2.98926490e-04],\n",
       "       [1.75893318e-03, 9.98102367e-01, 1.38758449e-04],\n",
       "       [1.41011775e-02, 9.77101028e-01, 8.79781321e-03],\n",
       "       [1.73887238e-04, 9.99823511e-01, 2.66802954e-06],\n",
       "       [8.55858205e-04, 9.99126971e-01, 1.71973315e-05],\n",
       "       [1.91976363e-03, 9.98069704e-01, 1.05789532e-05],\n",
       "       [4.43609460e-04, 9.99545515e-01, 1.08313070e-05],\n",
       "       [8.19289300e-04, 9.99173462e-01, 7.31105274e-06],\n",
       "       [5.85518428e-04, 9.99342382e-01, 7.20424869e-05],\n",
       "       [3.30843832e-05, 9.99966621e-01, 2.56526477e-07],\n",
       "       [2.27728393e-03, 9.97705042e-01, 1.76996073e-05],\n",
       "       [2.80017802e-03, 9.97158647e-01, 4.11613582e-05],\n",
       "       [1.10335881e-03, 9.98889983e-01, 6.68461189e-06],\n",
       "       [2.27172649e-03, 9.97713566e-01, 1.46925468e-05],\n",
       "       [1.23883085e-03, 9.98734891e-01, 2.63701186e-05],\n",
       "       [1.17940223e-03, 9.92418766e-01, 6.40183780e-03],\n",
       "       [1.18159119e-03, 9.94104683e-01, 4.71368153e-03],\n",
       "       [1.74669854e-04, 9.99810040e-01, 1.52088232e-05],\n",
       "       [3.44243995e-03, 9.96478379e-01, 7.92748251e-05],\n",
       "       [1.34701811e-04, 9.99864578e-01, 7.37559731e-07],\n",
       "       [3.66243854e-04, 9.99623060e-01, 1.07299793e-05],\n",
       "       [8.13681108e-04, 9.99176443e-01, 9.85190945e-06],\n",
       "       [7.74613698e-04, 9.99171495e-01, 5.39298417e-05],\n",
       "       [4.90341219e-04, 9.99506950e-01, 2.70247756e-06],\n",
       "       [4.84798402e-02, 9.50654566e-01, 8.65556009e-04],\n",
       "       [3.92911432e-04, 9.99594986e-01, 1.21433814e-05],\n",
       "       [3.38705094e-03, 9.93634462e-01, 2.97839125e-03],\n",
       "       [8.83466564e-05, 9.99897599e-01, 1.40162883e-05],\n",
       "       [1.25483121e-03, 9.98717070e-01, 2.80822060e-05],\n",
       "       [4.82902071e-03, 9.94944274e-01, 2.26672419e-04],\n",
       "       [3.92371003e-04, 9.99596655e-01, 1.09535458e-05],\n",
       "       [1.11359369e-03, 9.98806119e-01, 8.02377981e-05],\n",
       "       [1.87152124e-04, 9.99810040e-01, 2.83610734e-06],\n",
       "       [3.70248512e-04, 9.99598205e-01, 3.15251636e-05],\n",
       "       [1.71876524e-03, 9.98274207e-01, 7.07674781e-06],\n",
       "       [2.85772025e-04, 9.99713242e-01, 1.00550642e-06],\n",
       "       [2.54528644e-03, 9.97355700e-01, 9.90643239e-05],\n",
       "       [2.25058827e-03, 9.97701108e-01, 4.83003605e-05],\n",
       "       [4.23981866e-04, 9.99542952e-01, 3.31496849e-05],\n",
       "       [5.44111826e-04, 9.99447644e-01, 8.25060215e-06],\n",
       "       [4.12291003e-04, 9.99584377e-01, 3.35303685e-06],\n",
       "       [4.57073213e-04, 9.99527693e-01, 1.52937919e-05],\n",
       "       [1.14468439e-03, 9.98438656e-01, 4.16654540e-04],\n",
       "       [2.43091257e-04, 9.99752343e-01, 4.58009617e-06],\n",
       "       [2.16076311e-04, 9.99782145e-01, 1.81155258e-06],\n",
       "       [1.60758616e-04, 9.99838471e-01, 6.82100392e-07],\n",
       "       [2.73066165e-04, 9.99722302e-01, 4.63614288e-06],\n",
       "       [5.71516575e-03, 9.93643880e-01, 6.40883925e-04],\n",
       "       [2.34504987e-04, 9.99762952e-01, 2.53964004e-06],\n",
       "       [1.32394331e-02, 9.86636460e-01, 1.24058453e-04],\n",
       "       [5.82292071e-03, 9.93578553e-01, 5.98536863e-04],\n",
       "       [9.78064723e-04, 9.99009371e-01, 1.25497745e-05],\n",
       "       [6.61429731e-05, 9.99932885e-01, 9.97905545e-07],\n",
       "       [1.02936514e-02, 9.69849229e-01, 1.98571682e-02],\n",
       "       [1.97893977e-02, 9.79184151e-01, 1.02647173e-03],\n",
       "       [2.67135038e-04, 9.99705613e-01, 2.71749559e-05],\n",
       "       [3.73004004e-04, 9.99621391e-01, 5.55267570e-06],\n",
       "       [1.72465152e-05, 9.99982595e-01, 1.46008176e-07],\n",
       "       [2.92777573e-03, 9.96997595e-01, 7.46893274e-05],\n",
       "       [1.45475296e-02, 9.70195174e-01, 1.52574321e-02],\n",
       "       [4.74244909e-04, 9.99455512e-01, 7.03219484e-05],\n",
       "       [1.74262282e-03, 9.98231232e-01, 2.62104604e-05],\n",
       "       [1.60105468e-03, 9.98394907e-01, 4.06161735e-06],\n",
       "       [5.28653339e-02, 9.45704401e-01, 1.43032533e-03],\n",
       "       [6.20333478e-04, 9.99377072e-01, 2.64997857e-06],\n",
       "       [4.93644038e-04, 9.99503970e-01, 2.36669530e-06],\n",
       "       [5.34897344e-03, 9.94568467e-01, 8.26901087e-05],\n",
       "       [4.59123767e-05, 9.99953628e-01, 4.25546347e-07],\n",
       "       [1.65114668e-03, 9.97031808e-01, 1.31697964e-03],\n",
       "       [1.41205464e-03, 9.98528004e-01, 5.98381012e-05],\n",
       "       [2.01643143e-05, 9.99979734e-01, 1.06042833e-07],\n",
       "       [1.78892835e-04, 9.99821126e-01, 3.31454579e-08],\n",
       "       [4.48517781e-03, 9.95513499e-01, 1.28163219e-06],\n",
       "       [1.60104211e-03, 9.98394191e-01, 4.76646619e-06],\n",
       "       [4.47946863e-04, 9.99520421e-01, 3.17278573e-05],\n",
       "       [1.16117194e-03, 9.98697221e-01, 1.41683951e-04],\n",
       "       [2.03881355e-04, 9.99793231e-01, 2.88936030e-06],\n",
       "       [5.31437388e-03, 9.94503260e-01, 1.82363074e-04],\n",
       "       [1.37551833e-04, 9.99861002e-01, 1.44447711e-06],\n",
       "       [1.91034377e-03, 9.98077989e-01, 1.16831161e-05],\n",
       "       [5.63287875e-04, 9.99427199e-01, 9.52550545e-06],\n",
       "       [1.66096492e-04, 9.99832392e-01, 1.47030869e-06],\n",
       "       [1.28146512e-02, 8.99262726e-01, 8.79226401e-02],\n",
       "       [2.89881602e-03, 9.97064173e-01, 3.69820082e-05],\n",
       "       [1.13505470e-04, 9.99840379e-01, 4.60952906e-05],\n",
       "       [2.32326193e-03, 9.97597277e-01, 7.94283478e-05],\n",
       "       [1.04527469e-04, 9.99669790e-01, 2.25657481e-04],\n",
       "       [1.56627328e-03, 9.98288810e-01, 1.44920283e-04],\n",
       "       [2.08154306e-04, 9.99783576e-01, 8.18944409e-06],\n",
       "       [8.47721007e-04, 9.99141574e-01, 1.07382484e-05],\n",
       "       [1.50414475e-03, 9.98476207e-01, 1.96201217e-05],\n",
       "       [1.38032553e-03, 9.98522818e-01, 9.68425520e-05],\n",
       "       [5.67493634e-03, 9.81795013e-01, 1.25300139e-02],\n",
       "       [3.20735853e-05, 9.99967694e-01, 2.08029945e-07],\n",
       "       [1.20976358e-03, 9.98651564e-01, 1.38718984e-04],\n",
       "       [3.42428772e-04, 9.99567568e-01, 8.99810257e-05],\n",
       "       [7.30470940e-03, 9.90153611e-01, 2.54167127e-03],\n",
       "       [3.46253067e-03, 9.96357620e-01, 1.79772105e-04],\n",
       "       [4.43774516e-05, 9.99953628e-01, 2.00838053e-06],\n",
       "       [4.37821262e-03, 9.91544843e-01, 4.07705083e-03],\n",
       "       [9.75999050e-04, 9.98807430e-01, 2.16532659e-04],\n",
       "       [3.76283162e-04, 9.99605119e-01, 1.85492245e-05],\n",
       "       [7.63085554e-04, 9.99184191e-01, 5.27609700e-05],\n",
       "       [1.80571654e-03, 9.98032987e-01, 1.61279007e-04],\n",
       "       [3.10113741e-04, 9.99676585e-01, 1.33753310e-05],\n",
       "       [3.68948164e-03, 9.96110737e-01, 1.99819318e-04],\n",
       "       [5.20168687e-04, 9.99454796e-01, 2.50416397e-05],\n",
       "       [2.87966614e-05, 9.99971032e-01, 1.65587181e-07],\n",
       "       [3.68520705e-04, 9.99627948e-01, 3.50985192e-06],\n",
       "       [1.33516379e-02, 9.86440599e-01, 2.07823352e-04],\n",
       "       [7.15392595e-03, 9.19325888e-01, 7.35201016e-02],\n",
       "       [3.56594473e-02, 8.89942348e-01, 7.43982866e-02],\n",
       "       [5.68274409e-04, 9.99350727e-01, 8.10642014e-05],\n",
       "       [4.69272549e-04, 9.99529719e-01, 1.11253735e-06],\n",
       "       [8.73998564e-04, 9.99025345e-01, 1.00663790e-04],\n",
       "       [1.20106793e-03, 9.98649895e-01, 1.49026033e-04],\n",
       "       [6.50212634e-04, 9.99341190e-01, 8.54018617e-06],\n",
       "       [3.08116246e-03, 9.96819258e-01, 9.96091258e-05],\n",
       "       [1.08955416e-03, 9.98853803e-01, 5.66533599e-05],\n",
       "       [1.11210532e-03, 9.98880446e-01, 7.52093774e-06],\n",
       "       [4.18647629e-04, 9.99575675e-01, 5.69490749e-06],\n",
       "       [2.64929258e-04, 9.99712050e-01, 2.30060305e-05],\n",
       "       [9.63682949e-04, 9.98962641e-01, 7.36992151e-05],\n",
       "       [1.44883245e-02, 9.64113057e-01, 2.13985648e-02],\n",
       "       [2.41970308e-02, 9.74056423e-01, 1.74654671e-03],\n",
       "       [1.37637369e-03, 9.98504400e-01, 1.19306831e-04],\n",
       "       [4.15182527e-04, 9.99579966e-01, 4.83456279e-06],\n",
       "       [2.27566203e-03, 9.97168005e-01, 5.56292827e-04],\n",
       "       [6.60165737e-04, 9.99322534e-01, 1.72458349e-05],\n",
       "       [7.55439105e-04, 9.99235034e-01, 9.56994427e-06],\n",
       "       [1.06326863e-03, 9.98911858e-01, 2.49006644e-05],\n",
       "       [7.91558647e-04, 9.99182642e-01, 2.57797747e-05],\n",
       "       [1.08420453e-03, 9.98870790e-01, 4.50589687e-05],\n",
       "       [1.82276510e-03, 9.97354746e-01, 8.22536822e-04],\n",
       "       [1.12153437e-04, 9.99886870e-01, 9.75500257e-07],\n",
       "       [8.43068701e-04, 9.99053895e-01, 1.03024831e-04],\n",
       "       [2.61100312e-03, 9.97282028e-01, 1.06992629e-04],\n",
       "       [7.99002184e-04, 9.99152422e-01, 4.86078461e-05],\n",
       "       [2.81071290e-02, 7.15637445e-01, 2.56255358e-01],\n",
       "       [5.06664887e-02, 9.42964137e-01, 6.36941614e-03],\n",
       "       [2.66711053e-04, 9.99724090e-01, 9.13209715e-06],\n",
       "       [1.18658002e-02, 9.81379569e-01, 6.75462652e-03],\n",
       "       [1.15845436e-02, 9.87466037e-01, 9.49370093e-04],\n",
       "       [4.60456014e-02, 9.47577715e-01, 6.37666881e-03],\n",
       "       [8.88199639e-03, 9.90248024e-01, 8.70053482e-04],\n",
       "       [5.63146872e-03, 9.94156957e-01, 2.11555918e-04],\n",
       "       [3.25689767e-03, 9.93420422e-01, 3.32267699e-03],\n",
       "       [4.01091622e-03, 9.95928824e-01, 6.02413675e-05],\n",
       "       [3.25314650e-05, 9.99967217e-01, 2.30007316e-07],\n",
       "       [9.23434854e-05, 9.99635577e-01, 2.72104866e-04],\n",
       "       [1.42361615e-02, 7.00729072e-01, 2.85034716e-01],\n",
       "       [1.80504541e-03, 9.97158885e-01, 1.03613432e-03],\n",
       "       [1.30051660e-04, 9.99868035e-01, 1.94568588e-06],\n",
       "       [2.64474860e-04, 9.99733984e-01, 1.53551275e-06],\n",
       "       [1.45189915e-05, 9.99985456e-01, 1.60904339e-08],\n",
       "       [1.99054275e-03, 9.97983575e-01, 2.58596538e-05],\n",
       "       [6.35352917e-05, 9.99933839e-01, 2.57513830e-06],\n",
       "       [1.12182309e-03, 9.98817980e-01, 6.01002903e-05],\n",
       "       [4.68510552e-04, 9.99518275e-01, 1.32447667e-05],\n",
       "       [5.69995586e-03, 9.94269133e-01, 3.09653915e-05],\n",
       "       [8.15508480e-04, 9.99172866e-01, 1.15864459e-05],\n",
       "       [2.04124451e-02, 9.52369869e-01, 2.72176564e-02],\n",
       "       [5.51613513e-04, 9.99445736e-01, 2.64678874e-06],\n",
       "       [4.33365902e-04, 9.99529719e-01, 3.69726185e-05],\n",
       "       [1.48682848e-01, 8.27270329e-01, 2.40468234e-02],\n",
       "       [1.61238927e-02, 9.51648235e-01, 3.22278738e-02],\n",
       "       [5.03029558e-04, 9.99495029e-01, 1.94579297e-06],\n",
       "       [1.81134077e-04, 9.99818623e-01, 2.87273508e-07],\n",
       "       [1.79826468e-03, 9.91852939e-01, 6.34879060e-03],\n",
       "       [2.30094418e-03, 9.97583389e-01, 1.15739458e-04],\n",
       "       [2.13808366e-04, 9.99785841e-01, 3.70512140e-07],\n",
       "       [5.91900374e-04, 9.99399900e-01, 8.23389018e-06],\n",
       "       [5.27668977e-03, 9.93114412e-01, 1.60894496e-03],\n",
       "       [1.28239728e-04, 9.99869108e-01, 2.63234733e-06],\n",
       "       [6.14939665e-04, 9.99375880e-01, 9.13356598e-06],\n",
       "       [1.51259231e-03, 9.90580380e-01, 7.90701527e-03],\n",
       "       [1.40103526e-04, 9.99835968e-01, 2.39048786e-05],\n",
       "       [3.01546621e-04, 9.99696374e-01, 2.13305134e-06],\n",
       "       [7.60808354e-03, 6.14496283e-02, 9.30942237e-01],\n",
       "       [1.44837787e-02, 1.27879813e-01, 8.57636452e-01],\n",
       "       [8.73974524e-03, 9.88335609e-02, 8.92426670e-01],\n",
       "       [1.75429380e-03, 1.84195973e-02, 9.79826152e-01],\n",
       "       [2.25759372e-02, 5.44144571e-01, 4.33279485e-01],\n",
       "       [2.11915579e-02, 9.57521439e-01, 2.12870203e-02],\n",
       "       [7.52380397e-03, 5.03498018e-02, 9.42126453e-01],\n",
       "       [3.37790288e-02, 2.96040207e-01, 6.70180798e-01],\n",
       "       [2.98281368e-02, 2.68995076e-01, 7.01176763e-01],\n",
       "       [2.56162807e-02, 1.78719729e-01, 7.95663953e-01],\n",
       "       [6.94332458e-03, 4.06538732e-02, 9.52402830e-01],\n",
       "       [2.10694764e-02, 8.00180554e-01, 1.78749889e-01],\n",
       "       [1.66318491e-02, 1.02067746e-01, 8.81300330e-01],\n",
       "       [4.83204564e-03, 5.12603931e-02, 9.43907499e-01],\n",
       "       [6.54770955e-02, 2.77947962e-01, 6.56574965e-01],\n",
       "       [1.57834645e-02, 2.13738605e-01, 7.70477951e-01],\n",
       "       [5.30232955e-03, 9.74981785e-01, 1.97157674e-02],\n",
       "       [1.14700315e-03, 3.43715847e-02, 9.64481413e-01],\n",
       "       [2.50353813e-02, 6.48652986e-02, 9.10099268e-01],\n",
       "       [7.01827742e-03, 9.31866765e-02, 8.99794996e-01],\n",
       "       [2.43719872e-02, 1.08456701e-01, 8.67171347e-01],\n",
       "       [3.35504822e-02, 5.13408661e-01, 4.53040868e-01],\n",
       "       [9.89262294e-03, 6.28432557e-02, 9.27264094e-01],\n",
       "       [8.37961584e-03, 1.77375555e-01, 8.14244807e-01],\n",
       "       [2.83522136e-03, 2.41184644e-02, 9.73046303e-01],\n",
       "       [2.35190187e-02, 3.65635544e-01, 6.10845447e-01],\n",
       "       [1.14904912e-02, 1.27770245e-01, 8.60739231e-01],\n",
       "       [1.44731272e-02, 1.05805799e-01, 8.79721045e-01],\n",
       "       [1.01398136e-02, 6.64056912e-02, 9.23454523e-01],\n",
       "       [2.33929291e-01, 7.11718917e-01, 5.43517619e-02],\n",
       "       [6.36262028e-03, 4.00107242e-02, 9.53626633e-01],\n",
       "       [6.47262111e-03, 2.48602137e-01, 7.44925261e-01],\n",
       "       [7.41837323e-02, 8.45326781e-01, 8.04894418e-02],\n",
       "       [3.13519570e-03, 4.15377021e-02, 9.55327094e-01],\n",
       "       [3.72152664e-02, 9.56166863e-01, 6.61775656e-03],\n",
       "       [2.02313880e-03, 2.53389440e-02, 9.72637892e-01],\n",
       "       [3.58225591e-03, 6.38973489e-02, 9.32520330e-01],\n",
       "       [2.31307056e-02, 6.20009601e-02, 9.14868355e-01],\n",
       "       [7.21583841e-03, 1.19497679e-01, 8.73286426e-01],\n",
       "       [1.06635853e-03, 5.66730164e-02, 9.42260623e-01],\n",
       "       [7.62693882e-02, 2.25565881e-01, 6.98164701e-01],\n",
       "       [2.55939681e-02, 3.30771536e-01, 6.43634498e-01]], dtype=float32)"
      ]
     },
     "execution_count": 26,
     "metadata": {},
     "output_type": "execute_result"
    }
   ],
   "source": [
    "predictions = model.predict(test_generator)\n",
    "predictions"
   ]
  },
  {
   "cell_type": "code",
   "execution_count": 27,
   "id": "50317de4",
   "metadata": {
    "execution": {
     "iopub.execute_input": "2022-11-18T09:35:55.194898Z",
     "iopub.status.busy": "2022-11-18T09:35:55.193774Z",
     "iopub.status.idle": "2022-11-18T09:35:55.201162Z",
     "shell.execute_reply": "2022-11-18T09:35:55.200377Z"
    },
    "papermill": {
     "duration": 0.043519,
     "end_time": "2022-11-18T09:35:55.203269",
     "exception": false,
     "start_time": "2022-11-18T09:35:55.159750",
     "status": "completed"
    },
    "tags": []
   },
   "outputs": [],
   "source": [
    "def plot_loss_and_accuracy(history):\n",
    "    history_df = pd.DataFrame(history)\n",
    "    fig, ax = plt.subplots(1,2, figsize=(12, 6))\n",
    "    \n",
    "    history_df.loc[0:, ['loss', 'val_loss']].plot(ax=ax[0])\n",
    "    ax[0].set(xlabel = 'epoch number', ylabel = 'loss')\n",
    "\n",
    "    history_df.loc[0:, ['accuracy', 'val_accuracy']].plot(ax=ax[1])\n",
    "    ax[1].set(xlabel = 'epoch number', ylabel = 'accuracy')"
   ]
  },
  {
   "cell_type": "code",
   "execution_count": 28,
   "id": "e97c5afa",
   "metadata": {
    "execution": {
     "iopub.execute_input": "2022-11-18T09:35:55.271705Z",
     "iopub.status.busy": "2022-11-18T09:35:55.270472Z",
     "iopub.status.idle": "2022-11-18T09:35:55.675275Z",
     "shell.execute_reply": "2022-11-18T09:35:55.674465Z"
    },
    "papermill": {
     "duration": 0.441567,
     "end_time": "2022-11-18T09:35:55.677765",
     "exception": false,
     "start_time": "2022-11-18T09:35:55.236198",
     "status": "completed"
    },
    "tags": []
   },
   "outputs": [
    {
     "data": {
      "image/png": "[encoded data removed]",
      "text/plain": [
       "<Figure size 864x432 with 2 Axes>"
      ]
     },
     "metadata": {
      "needs_background": "light"
     },
     "output_type": "display_data"
    }
   ],
   "source": [
    "plot_loss_and_accuracy(model_history.history)"
   ]
  },
  {
   "cell_type": "code",
   "execution_count": 29,
   "id": "cc39368a",
   "metadata": {
    "execution": {
     "iopub.execute_input": "2022-11-18T09:35:55.748702Z",
     "iopub.status.busy": "2022-11-18T09:35:55.747644Z",
     "iopub.status.idle": "2022-11-18T09:35:56.463761Z",
     "shell.execute_reply": "2022-11-18T09:35:56.462644Z"
    },
    "papermill": {
     "duration": 0.754323,
     "end_time": "2022-11-18T09:35:56.466241",
     "exception": false,
     "start_time": "2022-11-18T09:35:55.711918",
     "status": "completed"
    },
    "tags": []
   },
   "outputs": [
    {
     "name": "stdout",
     "output_type": "stream",
     "text": [
      "with_mask || with_mask\n"
     ]
    },
    {
     "data": {
      "image/png": "[encoded data removed]",
      "text/plain": [
       "<Figure size 432x288 with 1 Axes>"
      ]
     },
     "metadata": {
      "needs_background": "light"
     },
     "output_type": "display_data"
    }
   ],
   "source": [
    "paths = test_generator.filenames\n",
    "y_pred = model.predict(test_generator).argmax(axis=1)\n",
    "classes = test_generator.class_indices\n",
    "\n",
    "a_img_rand = np.random.randint(0,len(paths))\n",
    "img = cv2.imread(os.path.join(output_data_path,'test', paths[a_img_rand]))      \n",
    "colored_img = cv2.cvtColor(img, cv2.COLOR_RGB2BGR)\n",
    "\n",
    "plt.imshow(colored_img)\n",
    "true_label = paths[a_img_rand].split('/')[0]\n",
    "predicted_label = list(classes)[y_pred[a_img_rand]]\n",
    "print(f'{predicted_label} || {true_label}')"
   ]
  },
  {
   "cell_type": "code",
   "execution_count": 30,
   "id": "75adbc78",
   "metadata": {
    "execution": {
     "iopub.execute_input": "2022-11-18T09:35:56.536993Z",
     "iopub.status.busy": "2022-11-18T09:35:56.536037Z",
     "iopub.status.idle": "2022-11-18T09:35:56.542629Z",
     "shell.execute_reply": "2022-11-18T09:35:56.541554Z"
    },
    "papermill": {
     "duration": 0.044198,
     "end_time": "2022-11-18T09:35:56.544926",
     "exception": false,
     "start_time": "2022-11-18T09:35:56.500728",
     "status": "completed"
    },
    "tags": []
   },
   "outputs": [],
   "source": [
    "def evaluation(y, y_hat, title = 'Confusion Matrix'):\n",
    "    cm = confusion_matrix(y, y_hat)\n",
    "    sns.heatmap(cm,  cmap= 'PuBu', annot=True, fmt='g', annot_kws={'size':20})\n",
    "    plt.xlabel('predicted', fontsize=18)\n",
    "    plt.ylabel('actual', fontsize=18)\n",
    "    plt.title(title, fontsize=18)\n",
    "    \n",
    "    plt.show()"
   ]
  },
  {
   "cell_type": "code",
   "execution_count": 31,
   "id": "474b6290",
   "metadata": {
    "execution": {
     "iopub.execute_input": "2022-11-18T09:35:56.614057Z",
     "iopub.status.busy": "2022-11-18T09:35:56.613664Z",
     "iopub.status.idle": "2022-11-18T09:35:57.181240Z",
     "shell.execute_reply": "2022-11-18T09:35:57.179863Z"
    },
    "papermill": {
     "duration": 0.605012,
     "end_time": "2022-11-18T09:35:57.183679",
     "exception": false,
     "start_time": "2022-11-18T09:35:56.578667",
     "status": "completed"
    },
    "tags": []
   },
   "outputs": [
    {
     "data": {
      "image/png": "[encoded data removed]",
      "text/plain": [
       "<Figure size 432x288 with 2 Axes>"
      ]
     },
     "metadata": {
      "needs_background": "light"
     },
     "output_type": "display_data"
    }
   ],
   "source": [
    "y_true = test_generator.labels\n",
    "y_pred = model.predict(test_generator).argmax(axis=1) # Predict prob and get Class Indices\n",
    "\n",
    "evaluation(y_true, y_pred)"
   ]
  },
  {
   "cell_type": "code",
   "execution_count": 32,
   "id": "e52542f8",
   "metadata": {
    "execution": {
     "iopub.execute_input": "2022-11-18T09:35:57.254768Z",
     "iopub.status.busy": "2022-11-18T09:35:57.254353Z",
     "iopub.status.idle": "2022-11-18T09:35:57.263423Z",
     "shell.execute_reply": "2022-11-18T09:35:57.262534Z"
    },
    "papermill": {
     "duration": 0.047035,
     "end_time": "2022-11-18T09:35:57.265552",
     "exception": false,
     "start_time": "2022-11-18T09:35:57.218517",
     "status": "completed"
    },
    "tags": []
   },
   "outputs": [
    {
     "data": {
      "text/plain": [
       "{'mask_weared_incorrect': 0, 'with_mask': 1, 'without_mask': 2}"
      ]
     },
     "metadata": {},
     "output_type": "display_data"
    },
    {
     "data": {
      "text/plain": [
       "array([  0, 208,  35])"
      ]
     },
     "execution_count": 32,
     "metadata": {},
     "output_type": "execute_result"
    }
   ],
   "source": [
    "display(classes)\n",
    "np.bincount(y_pred)"
   ]
  }
 ],
 "metadata": {
  "kernelspec": {
   "display_name": "Python 3 (ipykernel)",
   "language": "python",
   "name": "python3"
  },
  "language_info": {
   "codemirror_mode": {
    "name": "ipython",
    "version": 3
   },
   "file_extension": ".py",
   "mimetype": "text/x-python",
   "name": "python",
   "nbconvert_exporter": "python",
   "pygments_lexer": "ipython3",
   "version": "3.9.13"
  },
  "papermill": {
   "default_parameters": {},
   "duration": 142.187455,
   "end_time": "2022-11-18T09:35:59.934469",
   "environment_variables": {},
   "exception": null,
   "input_path": "__notebook__.ipynb",
   "output_path": "__notebook__.ipynb",
   "parameters": {},
   "start_time": "2022-11-18T09:33:37.747014",
   "version": "2.3.4"
  }
 },
 "nbformat": 4,
 "nbformat_minor": 5
}
